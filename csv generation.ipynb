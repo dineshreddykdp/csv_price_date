{
 "cells": [
  {
   "cell_type": "code",
   "execution_count": 1,
   "metadata": {},
   "outputs": [],
   "source": [
    "## importing libraries\n",
    "import pandas as pd\n",
    "from datetime import datetime\n",
    "from datetime import timedelta\n",
    "import re"
   ]
  },
  {
   "cell_type": "code",
   "execution_count": 2,
   "metadata": {},
   "outputs": [
    {
     "data": {
      "text/html": [
       "<div>\n",
       "<style scoped>\n",
       "    .dataframe tbody tr th:only-of-type {\n",
       "        vertical-align: middle;\n",
       "    }\n",
       "\n",
       "    .dataframe tbody tr th {\n",
       "        vertical-align: top;\n",
       "    }\n",
       "\n",
       "    .dataframe thead th {\n",
       "        text-align: right;\n",
       "    }\n",
       "</style>\n",
       "<table border=\"1\" class=\"dataframe\">\n",
       "  <thead>\n",
       "    <tr style=\"text-align: right;\">\n",
       "      <th></th>\n",
       "      <th>Week Of</th>\n",
       "      <th>Mon</th>\n",
       "      <th>Tue</th>\n",
       "      <th>Wed</th>\n",
       "      <th>Thu</th>\n",
       "      <th>Fri</th>\n",
       "    </tr>\n",
       "  </thead>\n",
       "  <tbody>\n",
       "    <tr>\n",
       "      <th>0</th>\n",
       "      <td>1997 Jan- 6 to Jan-10</td>\n",
       "      <td>NaN</td>\n",
       "      <td>3.82</td>\n",
       "      <td>3.80</td>\n",
       "      <td>3.61</td>\n",
       "      <td>3.92</td>\n",
       "    </tr>\n",
       "    <tr>\n",
       "      <th>1</th>\n",
       "      <td>1997 Jan-13 to Jan-17</td>\n",
       "      <td>4.00</td>\n",
       "      <td>4.01</td>\n",
       "      <td>4.34</td>\n",
       "      <td>4.71</td>\n",
       "      <td>3.91</td>\n",
       "    </tr>\n",
       "    <tr>\n",
       "      <th>2</th>\n",
       "      <td>1997 Jan-20 to Jan-24</td>\n",
       "      <td>3.26</td>\n",
       "      <td>2.99</td>\n",
       "      <td>3.05</td>\n",
       "      <td>2.96</td>\n",
       "      <td>2.62</td>\n",
       "    </tr>\n",
       "    <tr>\n",
       "      <th>3</th>\n",
       "      <td>1997 Jan-27 to Jan-31</td>\n",
       "      <td>2.98</td>\n",
       "      <td>3.05</td>\n",
       "      <td>2.91</td>\n",
       "      <td>2.86</td>\n",
       "      <td>2.77</td>\n",
       "    </tr>\n",
       "    <tr>\n",
       "      <th>4</th>\n",
       "      <td>1997 Feb- 3 to Feb- 7</td>\n",
       "      <td>2.49</td>\n",
       "      <td>2.59</td>\n",
       "      <td>2.65</td>\n",
       "      <td>2.51</td>\n",
       "      <td>2.39</td>\n",
       "    </tr>\n",
       "  </tbody>\n",
       "</table>\n",
       "</div>"
      ],
      "text/plain": [
       "                 Week Of   Mon   Tue   Wed   Thu   Fri\n",
       "0  1997 Jan- 6 to Jan-10   NaN  3.82  3.80  3.61  3.92\n",
       "1  1997 Jan-13 to Jan-17  4.00  4.01  4.34  4.71  3.91\n",
       "2  1997 Jan-20 to Jan-24  3.26  2.99  3.05  2.96  2.62\n",
       "3  1997 Jan-27 to Jan-31  2.98  3.05  2.91  2.86  2.77\n",
       "4  1997 Feb- 3 to Feb- 7  2.49  2.59  2.65  2.51  2.39"
      ]
     },
     "execution_count": 2,
     "metadata": {},
     "output_type": "execute_result"
    }
   ],
   "source": [
    "## scrappind data\n",
    "data_prices=pd.read_html('https://www.eia.gov/dnav/ng/hist/rngwhhdD.htm')[5]\n",
    "data_prices.head() "
   ]
  },
  {
   "cell_type": "code",
   "execution_count": 3,
   "metadata": {},
   "outputs": [
    {
     "data": {
      "text/html": [
       "<div>\n",
       "<style scoped>\n",
       "    .dataframe tbody tr th:only-of-type {\n",
       "        vertical-align: middle;\n",
       "    }\n",
       "\n",
       "    .dataframe tbody tr th {\n",
       "        vertical-align: top;\n",
       "    }\n",
       "\n",
       "    .dataframe thead th {\n",
       "        text-align: right;\n",
       "    }\n",
       "</style>\n",
       "<table border=\"1\" class=\"dataframe\">\n",
       "  <thead>\n",
       "    <tr style=\"text-align: right;\">\n",
       "      <th></th>\n",
       "      <th>Week Of</th>\n",
       "      <th>Mon</th>\n",
       "      <th>Tue</th>\n",
       "      <th>Wed</th>\n",
       "      <th>Thu</th>\n",
       "      <th>Fri</th>\n",
       "    </tr>\n",
       "  </thead>\n",
       "  <tbody>\n",
       "    <tr>\n",
       "      <th>0</th>\n",
       "      <td>1997 Jan- 6 to Jan-10</td>\n",
       "      <td>not available</td>\n",
       "      <td>3.82</td>\n",
       "      <td>3.8</td>\n",
       "      <td>3.61</td>\n",
       "      <td>3.92</td>\n",
       "    </tr>\n",
       "    <tr>\n",
       "      <th>1</th>\n",
       "      <td>1997 Jan-13 to Jan-17</td>\n",
       "      <td>4</td>\n",
       "      <td>4.01</td>\n",
       "      <td>4.34</td>\n",
       "      <td>4.71</td>\n",
       "      <td>3.91</td>\n",
       "    </tr>\n",
       "    <tr>\n",
       "      <th>2</th>\n",
       "      <td>1997 Jan-20 to Jan-24</td>\n",
       "      <td>3.26</td>\n",
       "      <td>2.99</td>\n",
       "      <td>3.05</td>\n",
       "      <td>2.96</td>\n",
       "      <td>2.62</td>\n",
       "    </tr>\n",
       "    <tr>\n",
       "      <th>3</th>\n",
       "      <td>1997 Jan-27 to Jan-31</td>\n",
       "      <td>2.98</td>\n",
       "      <td>3.05</td>\n",
       "      <td>2.91</td>\n",
       "      <td>2.86</td>\n",
       "      <td>2.77</td>\n",
       "    </tr>\n",
       "    <tr>\n",
       "      <th>4</th>\n",
       "      <td>1997 Feb- 3 to Feb- 7</td>\n",
       "      <td>2.49</td>\n",
       "      <td>2.59</td>\n",
       "      <td>2.65</td>\n",
       "      <td>2.51</td>\n",
       "      <td>2.39</td>\n",
       "    </tr>\n",
       "  </tbody>\n",
       "</table>\n",
       "</div>"
      ],
      "text/plain": [
       "                 Week Of            Mon   Tue   Wed   Thu   Fri\n",
       "0  1997 Jan- 6 to Jan-10  not available  3.82   3.8  3.61  3.92\n",
       "1  1997 Jan-13 to Jan-17              4  4.01  4.34  4.71  3.91\n",
       "2  1997 Jan-20 to Jan-24           3.26  2.99  3.05  2.96  2.62\n",
       "3  1997 Jan-27 to Jan-31           2.98  3.05  2.91  2.86  2.77\n",
       "4  1997 Feb- 3 to Feb- 7           2.49  2.59  2.65  2.51  2.39"
      ]
     },
     "execution_count": 3,
     "metadata": {},
     "output_type": "execute_result"
    }
   ],
   "source": [
    "## data cleaning and conversion to right format\n",
    "data_prices.dropna(how='all',inplace=True)\n",
    "data_prices.fillna('not available',inplace=True)\n",
    "#data_prices.columns = data_prices.iloc[0]\n",
    "#data_prices=data_prices.iloc[1:]\n",
    "data_prices.head() "
   ]
  },
  {
   "cell_type": "code",
   "execution_count": 4,
   "metadata": {
    "scrolled": false
   },
   "outputs": [],
   "source": [
    "## getting dates in string format\n",
    "data_prices['start_year']=data_prices['Week Of'].apply(lambda x:x[0:4])\n",
    "data_prices['start_date']=data_prices['Week Of'].apply(lambda x:x[5:11])\n",
    "data_prices['end_date']=data_prices['Week Of'].apply(lambda x:x[15:21])"
   ]
  },
  {
   "cell_type": "code",
   "execution_count": 5,
   "metadata": {},
   "outputs": [],
   "source": [
    "## changing end_year as start_year+1 where end_date is in the last of dec\n",
    "data_prices['year_modification']=data_prices['start_date'].apply(lambda x:x in ('Dec-31','Dec-30','Dec-29','Dec-28'))\n",
    "data_prices['start_year']=data_prices['start_year'].apply(lambda x:int(x))\n",
    "data_prices.loc[data_prices.year_modification == True, 'end_year'] = data_prices.loc[data_prices.year_modification == True, 'start_year']+1\n",
    "data_prices.loc[data_prices.year_modification == False, 'end_year'] = data_prices.loc[data_prices.year_modification == False, 'start_year']\n",
    "data_prices['end_year']=data_prices['end_year'].apply(lambda x:int(x))\n",
    "data_prices['start_year']=data_prices['start_year'].apply(lambda x:str(x))\n",
    "data_prices['end_year']=data_prices['end_year'].apply(lambda x:str(x))\n"
   ]
  },
  {
   "cell_type": "code",
   "execution_count": 6,
   "metadata": {},
   "outputs": [],
   "source": [
    "## converting dates to datetime object\n",
    "data_prices['start_date_object']=data_prices['start_year']+'-'+data_prices['start_date']\n",
    "data_prices['end_date_object']=data_prices['end_year']+'-'+data_prices['end_date']\n",
    "data_prices['start_date_object']=data_prices['start_date_object'].apply(lambda x:datetime.strptime(x,'%Y-%b-%d'))\n",
    "data_prices['end_date_object']=data_prices['end_date_object'].apply(lambda x:datetime.strptime(x,'%Y-%b-%d'))"
   ]
  },
  {
   "cell_type": "code",
   "execution_count": 7,
   "metadata": {},
   "outputs": [],
   "source": [
    "## generating all the dates\n",
    "dates=[]\n",
    "for j in data_prices.index:\n",
    "    for i in range((data_prices.loc[j]['end_date_object']-data_prices.loc[j]['start_date_object']).days+1):\n",
    "        dates.append(data_prices.loc[j]['start_date_object']+timedelta(days=i))"
   ]
  },
  {
   "cell_type": "code",
   "execution_count": 8,
   "metadata": {},
   "outputs": [],
   "source": [
    "## creating list of prices\n",
    "values=[]\n",
    "for j in range(0,len(data_prices)):\n",
    "    for i in range(1,6):\n",
    "        values.append(data_prices.iloc[j,i])"
   ]
  },
  {
   "cell_type": "code",
   "execution_count": 9,
   "metadata": {},
   "outputs": [],
   "source": [
    "price_object=pd.DataFrame(dates,values).reset_index().rename(columns={0:'Date','index':'price'})"
   ]
  },
  {
   "cell_type": "code",
   "execution_count": 10,
   "metadata": {},
   "outputs": [],
   "source": [
    "price_object.to_csv('pricing_daily.csv')"
   ]
  },
  {
   "cell_type": "code",
   "execution_count": null,
   "metadata": {},
   "outputs": [],
   "source": []
  }
 ],
 "metadata": {
  "kernelspec": {
   "display_name": "Python 3",
   "language": "python",
   "name": "python3"
  },
  "language_info": {
   "codemirror_mode": {
    "name": "ipython",
    "version": 3
   },
   "file_extension": ".py",
   "mimetype": "text/x-python",
   "name": "python",
   "nbconvert_exporter": "python",
   "pygments_lexer": "ipython3",
   "version": "3.7.6"
  }
 },
 "nbformat": 4,
 "nbformat_minor": 2
}
